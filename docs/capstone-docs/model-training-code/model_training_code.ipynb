{
 "cells": [
  {
   "cell_type": "markdown",
   "metadata": {},
   "source": [
    "# Model Training Code"
   ]
  },
  {
   "cell_type": "markdown",
   "metadata": {},
   "source": [
    "Here, we will train a model based on image data using tensorflow and yolo. Since the manual data set has only single images of each 20 classes of data, we will use this as a base and train the model on this data. The model will be trained on the dataset of images of the  classes of fruits. The model will be trained using the YOLO architecture.\n",
    "\n"
   ]
  },
  {
   "cell_type": "markdown",
   "metadata": {},
   "source": [
    "## Steps for training the model\n",
    "1. Data Cleaning & Preprocessing\n",
    "    1. Load the data\n",
    "    2. Preprocess the data\n",
    "    3. Data Augmentation\n",
    "    4. Data Normalization\n",
    "    5. Data Splitting\n",
    "2. Model Building\n",
    "    1. Model Architecture\n",
    "    2. Model Compilation\n",
    "3. Model Training\n",
    "    1. Model Training\n",
    "4. Model Evaluation\n",
    "    1. Model Evaluation\n",
    "    2. Model Saving\n",
    "\n",
    "\n",
    "\n"
   ]
  },
  {
   "cell_type": "markdown",
   "metadata": {},
   "source": [
    "\n",
    "\n",
    "## Data Cleaning & Preprocessing\n",
    "The data is cleaned and preprocessed before training the model. The data is loaded, preprocessed, augmented, normalized, and split into training and validation sets.\n"
   ]
  },
  {
   "cell_type": "markdown",
   "metadata": {},
   "source": [
    "\n",
    "### Load the data\n"
   ]
  },
  {
   "cell_type": "markdown",
   "metadata": {},
   "source": [
    "\n",
    "### Preprocess the data\n"
   ]
  },
  {
   "cell_type": "markdown",
   "metadata": {},
   "source": [
    "\n",
    "### Data Augmentation\n"
   ]
  },
  {
   "cell_type": "markdown",
   "metadata": {},
   "source": [
    "\n",
    "### Data Normalization\n"
   ]
  },
  {
   "cell_type": "markdown",
   "metadata": {},
   "source": [
    "\n",
    "### Data Splitting\n"
   ]
  },
  {
   "cell_type": "markdown",
   "metadata": {},
   "source": [
    "\n",
    "## Model Building\n",
    "\n",
    "### Model Architecture\n",
    "\n",
    "### Model Compilation\n"
   ]
  },
  {
   "cell_type": "markdown",
   "metadata": {},
   "source": [
    "\n",
    "## Model Training\n",
    "\n",
    "### Model Training\n"
   ]
  },
  {
   "cell_type": "markdown",
   "metadata": {},
   "source": [
    "\n",
    "## Model Evaluation\n",
    "\n",
    "### Model Evaluation\n",
    "\n",
    "### Model Saving\n",
    "\n",
    "The data is loaded from the dataset of images of the classes of fruits. The data is loaded using the `load_data` function from the `data_loader.py` file. The data is loaded in the form of a dictionary with the keys as the class names and the values as the images of the respective classes.\n",
    "\n",
    "```python\n",
    "import data_loader\n",
    "\n"
   ]
  },
  {
   "cell_type": "markdown",
   "metadata": {},
   "source": [
    "1. Load the data\n",
    "```python"
   ]
  },
  {
   "cell_type": "code",
   "execution_count": null,
   "metadata": {},
   "outputs": [],
   "source": []
  }
 ],
 "metadata": {
  "kernelspec": {
   "display_name": "3.13.0",
   "language": "python",
   "name": "python3"
  },
  "language_info": {
   "name": "python",
   "version": "3.13.0"
  }
 },
 "nbformat": 4,
 "nbformat_minor": 2
}
