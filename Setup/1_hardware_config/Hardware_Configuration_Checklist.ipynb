{
 "cells": [
  {
   "cell_type": "markdown",
   "metadata": {},
   "source": []
  },
  {
   "cell_type": "markdown",
   "metadata": {},
   "source": [
    "# Hardware Configuration Checklist\n",
    "\n",
    "## Overview\n",
    "\n",
    "This notebook is aimed on configuring the hardware for the project. The hardware configuration checklist is a list of steps that need to be taken to configure the hardware for the project. The checklist is divided into two parts: the first part is the hardware configuration checklist for the Raspberry Pi that contains the robotics software stack, and the second part is the hardware configuration checklist for the camera placed on the end of the 3-axis robotic arm.\n",
    "\n",
    "## Table of Contents\n",
    "\n",
    "1. [Hardware Configuration Checklist for the Servo Controller](#hardware-configuration-checklist-for-the-raspberry-pi-servo-controller)\n",
    "   1. [Install the Servo Controller Library](#install-the-servo-controller-library)\n",
    "   2. [Configure the Servo Controller](#configure-the-servo-controller)\n",
    "   3. [Test the Servo Controller](#test-the-servo-controller)\n",
    "2. [Hardware Configuration Checklist for the Camera](#hardware-configuration-checklist-for-the-camera)\n",
    "   1. [Install the Camera](#install-the-camera)\n",
    "   2. [Configure the Camera](#configure-the-camera)\n",
    "   3. [Test the Camera](#test-the-camera)\n",
    "3. [Conclusion](#conclusion)\n",
    "4. [Next Steps](#next-steps)\n",
    "5. [References](#references)\n"
   ]
  },
  {
   "cell_type": "markdown",
   "metadata": {},
   "source": [
    "\n",
    "## Raspberry Pi Servo Controller Configuration Checklist\n"
   ]
  },
  {
   "cell_type": "markdown",
   "metadata": {},
   "source": [
    "\n",
    "![Raspberry Pi Servo Controller Configuration Checklist](../../etc/imgs/servo_directory_structure_2.png)\n"
   ]
  },
  {
   "cell_type": "markdown",
   "metadata": {},
   "source": [
    "\n",
    "*This section covers the setup and configuration of the servo controller hardware connected to the Raspberry Pi. The servo controller is responsible for controlling the movements of the 3-axis robotic arm.*\n"
   ]
  },
  {
   "cell_type": "markdown",
   "metadata": {},
   "source": [
    "\n",
    "### Install the Servo Controller Library\n",
    "\n",
    "To interface with the servo controller, we need to install the necessary libraries:\n",
    "\n",
    "- python3: The programming language used to interface with the servo controller.\n",
    "\n",
    "\n",
    "install python3 preferably version 3.7.3 or higher. You can check the version of python3 installed on your Raspberry Pi by running the following command. You will be utilizing opencv and machine learning libraries, so it is recommended to install python3.7.3 or higher. You can check the version of python3 installed on your Raspberry Pi by running the following command:\n",
    "\n",
    "```bash\n",
    "python3 --version\n",
    "```\n",
    "\n"
   ]
  },
  {
   "cell_type": "markdown",
   "metadata": {},
   "source": [
    "\n",
    "- arm_lib: The library used to control the robotic arm servos.\n",
    "  \n",
    "Robotic arm control libray: 'sudo python3 setup.py install' commands installs the robotic servo controller library. This library is used to control the robotic arm servos, which are connected to default library used in [yahboom robotic arm]. Please see latest version of the dofbot arm to check the compatibility of the library. If you just want to control the camera, you can skip this step.\n"
   ]
  },
  {
   "cell_type": "markdown",
   "metadata": {},
   "source": [
    "Here is the code to install the library:\n",
    "\n",
    "```python\n",
    "from setuptools import find_packages,setup\n",
    "setup(\n",
    "    name = 'Arm_Lib',\n",
    "    version = '0.0.5',\n",
    "    author='Yahboom Team',\n",
    "    packages = find_packages(),\n",
    ")\n",
    "```\n",
    "\n",
    "\n",
    "\n",
    "I have created a bash script called 'install-arm-dependencies.sh' that runs and installs the library. You can run the script by executing the following command in the terminal once you have navigated to the directory containing the script:\n",
    "\n",
    "\n"
   ]
  },
  {
   "cell_type": "markdown",
   "metadata": {
    "vscode": {
     "languageId": "shellscript"
    }
   },
   "source": [
    "\n",
    "````bash\n",
    "cd /home/Dofbot/Dofbot/0.py_install\n",
    "$ sudo python3 setup.py install\n",
    "````\n"
   ]
  },
  {
   "cell_type": "markdown",
   "metadata": {},
   "source": [
    "\n",
    "Then, you can run the following command to install the library:\n",
    "\n",
    "```bash\n",
    "bash install-arm-dependencies.sh\n",
    "```\n",
    "\n",
    "\n"
   ]
  },
  {
   "cell_type": "markdown",
   "metadata": {},
   "source": [
    "\n",
    "This installs the library and its dependencies, which is setup in a seperate directory called 'py_install'. The library is used to control the robotic arm servos, which are connected to the default library used in the [Yahboom robotic arm](https://www.yahboom.net/study/3DOF-Robot-Arm). Please see the latest version of the DOFBOT arm to check the compatibility of the library. If you just want to control the camera, you can skip this step.\n",
    "\n",
    "\n"
   ]
  },
  {
   "cell_type": "markdown",
   "metadata": {},
   "source": [
    "\n",
    "\n",
    "### Test the Servo Controller\n",
    "\n",
    "Once the servo controller is configured, we can test it to ensure it's working properly:\n"
   ]
  },
  {
   "cell_type": "markdown",
   "metadata": {},
   "source": [
    "\n",
    "## Camera Configuration Checklist\n",
    "\n",
    "This section covers the setup and configuration of the camera mounted on the end of the 3-axis robotic arm. The camera is used for vision-based tasks in the SmartVision project.\n"
   ]
  },
  {
   "cell_type": "markdown",
   "metadata": {},
   "source": [
    "\n",
    "### Install the Camera\n",
    "\n",
    "Follow these steps to physically install the camera on the robotic arm:\n",
    "\n",
    "1. Attach the camera to the end of the robotic arm using the mounting bracket.\n",
    "2. Connect the camera cable to the Raspberry Pi camera port.\n",
    "3. Secure the camera cable to the robotic arm to prevent it from getting caught in the arm's movements.\n",
    "4. Ensure the camera is positioned correctly to capture images from the desired viewpoint.\n",
    "5. Power on the camera and check that the LED indicator lights up to indicate that the camera is receiving power.\n"
   ]
  },
  {
   "cell_type": "markdown",
   "metadata": {},
   "source": [
    "\n",
    "### Configure the Camera\n",
    "\n",
    "After installing the camera, we need to configure it to work with our system. In the configuration I have used the following libraries:\n",
    "\n",
    "\n",
    "- python3: The programming language used to interface with the camera.\n",
    "- openCV: 'sudo apt-get install python3-opencv' command installs the openCV library. This library is used to process the images captured by the camera. It is utilized by many linux-based devices and is compatible with the Raspberry Pi. If you just want to control the camera, or want to port the camera to a different platform, you can just install this library.\n",
    "\n"
   ]
  },
  {
   "cell_type": "markdown",
   "metadata": {},
   "source": [
    "\n",
    "### Test the Camera\n",
    "\n",
    "Once the camera is configured, we can test it to ensure it's capturing images correctly:\n",
    "\n",
    "Let's run some tests via the jupyter notebook to check if the camera is working properly. We will use the openCV library to capture an image from the camera and display it in the notebook. The following code snippet captures an image from the camera and displays it in the notebook, we will use the following 4 actions to test the camera:\n",
    "\n",
    "\n"
   ]
  },
  {
   "cell_type": "markdown",
   "metadata": {},
   "source": [
    "\n",
    "#### Working with images/video on the file system\n",
    "  1. Read an image from the file system\n",
    "  2. Display and write new file image from file system\n",
    "  3. Read and display a video from the file system\n",
    "\n"
   ]
  },
  {
   "cell_type": "markdown",
   "metadata": {},
   "source": [
    "\n",
    "`1. Read an image from the file system\n",
    "`"
   ]
  },
  {
   "cell_type": "code",
   "execution_count": null,
   "metadata": {},
   "outputs": [],
   "source": [
    "\n",
    "import cv2\n",
    "import matplotlib.pyplot as plt\n",
    "\n",
    "\n",
    "# Read an image from the file system\n",
    "image = cv2.imread('image.jpg')\n",
    "\n",
    "# Display the image\n",
    "plt.imshow(cv2.cvtColor(image, cv2.COLOR_BGR2RGB))\n",
    "plt.axis('off')\n",
    "plt.show()\n"
   ]
  },
  {
   "cell_type": "markdown",
   "metadata": {},
   "source": [
    "\n",
    "`2. Display and write new file image from file system\n",
    "`"
   ]
  },
  {
   "cell_type": "markdown",
   "metadata": {},
   "source": [
    "\n",
    "```python\n",
    "import cv2\n",
    "import matplotlib.pyplot as plt\n",
    "\n",
    "# Read an image from the file system\n",
    "\n",
    "image = cv2.imread('image.jpg')\n",
    "\n",
    "# Display the image\n",
    "plt.imshow(cv2.cvtColor(image, cv2.COLOR_BGR2RGB))\n",
    "plt.axis('off')\n",
    "plt.show()\n",
    "\n",
    "# Write the image to a new file\n",
    "cv2.imwrite('new_image.jpg', image)\n",
    "```\n"
   ]
  },
  {
   "cell_type": "markdown",
   "metadata": {},
   "source": [
    "\n",
    "`3. Read and display a video from the file system\n",
    "`"
   ]
  },
  {
   "cell_type": "code",
   "execution_count": null,
   "metadata": {},
   "outputs": [],
   "source": [
    "\n",
    "import cv2\n",
    "import matplotlib.pyplot as plt\n",
    "\n",
    "# Read a video from the file system\n",
    "video = cv2.VideoCapture('video.mp4')\n",
    "\n",
    "# Display the video\n",
    "while True:\n",
    "    ret, frame = video.read()\n",
    "    if not ret:\n",
    "        break\n",
    "    plt.imshow(cv2.cvtColor(frame, cv2.COLOR_BGR2RGB))\n",
    "    plt.axis('off')\n",
    "    plt.show()\n",
    "    break\n",
    "\n",
    "video.release()\n",
    "\n"
   ]
  },
  {
   "cell_type": "markdown",
   "metadata": {},
   "source": [
    "\n",
    "\n",
    "> Note: \n",
    ">     \n",
    "> If the camera is working correctly, you should see the image displayed in the notebook. If you encounter any issues, refer to the troubleshooting section for help.\n",
    "\n"
   ]
  },
  {
   "cell_type": "markdown",
   "metadata": {},
   "source": [
    "\n",
    "#### Working with the camera\n",
    "\n",
    "  1. Capture and create an image from the camera\n",
    "  2. Capture an image frame from the camera and display it in the notebook\n",
    "  3. Capture a video from the camera and display it in the notebook\n",
    "\n",
    "\n",
    "\n",
    "`1. Capture and create an image from the camera`\n"
   ]
  },
  {
   "cell_type": "code",
   "execution_count": null,
   "metadata": {},
   "outputs": [],
   "source": [
    "\n",
    "import cv2\n",
    "\n",
    "\n",
    "# Create a VideoCapture object\n",
    "cap = cv2.VideoCapture(0)\n",
    "\n",
    "# Check if the camera is opened correctly\n",
    "if not cap.isOpened():\n",
    "    print(\"Error: Could not open camera.\")\n",
    "    exit()\n",
    "\n",
    "# Capture a frame from the camera\n",
    "ret, frame = cap.read()\n",
    "\n",
    "# Check if the frame is captured correctly\n",
    "if not ret:\n",
    "    print(\"Error: Could not read frame.\")\n",
    "    exit()\n",
    "\n",
    "# Save the frame as an image\n",
    "cv2.imwrite(\"image.jpg\", frame)\n",
    "\n",
    "# Release the VideoCapture object\n",
    "cap.release()\n"
   ]
  },
  {
   "cell_type": "markdown",
   "metadata": {},
   "source": [
    "\n",
    "`2. Capture an image frame from the camera and display it in the notebook`\n"
   ]
  },
  {
   "cell_type": "code",
   "execution_count": null,
   "metadata": {},
   "outputs": [],
   "source": [
    "\n",
    "\n",
    "\n",
    "\n",
    "import cv2\n",
    "\n",
    "# Create a VideoCapture object\n",
    "cap = cv2.VideoCapture(0)\n",
    "\n",
    "# Check if the camera is opened correctly\n",
    "if not cap.isOpened():\n",
    "    print(\"Error: Could not open camera.\")\n",
    "    exit()\n",
    "\n",
    "# Capture a frame from the camera\n",
    "ret, frame = cap.read()\n",
    "\n",
    "# Check if the frame is captured correctly\n",
    "if not ret:\n",
    "    print(\"Error: Could not read frame.\")\n",
    "    exit()\n",
    "\n",
    "# Save the frame as an image\n",
    "cv2.imwrite(\"image.jpg\", frame)\n",
    "\n",
    "# Release the VideoCapture object\n",
    "cap.release()\n",
    "\n"
   ]
  },
  {
   "cell_type": "markdown",
   "metadata": {},
   "source": [
    "\n",
    "`3. Capture a video from the camera and display it in the notebook`\n",
    "\n"
   ]
  },
  {
   "cell_type": "code",
   "execution_count": null,
   "metadata": {},
   "outputs": [],
   "source": [
    "\n",
    "\n",
    "\n",
    "import cv2\n",
    "\n",
    "# Create a VideoCapture object\n",
    "cap = cv2.VideoCapture(0)\n",
    "\n",
    "# Check if the camera is opened correctly\n",
    "if not cap.isOpened():\n",
    "    print(\"Error: Could not open camera.\")\n",
    "    exit()\n",
    "\n",
    "# Capture a frame from the camera\n",
    "ret, frame = cap.read()\n",
    "\n",
    "# Check if the frame is captured correctly\n",
    "if not ret:\n",
    "    print(\"Error: Could not read frame.\")\n",
    "    exit()\n",
    "\n",
    "# Save the frame as an image\n",
    "cv2.imwrite(\"image.jpg\", frame)\n",
    "\n",
    "# Release the VideoCapture object\n",
    "cap.release()\n"
   ]
  },
  {
   "cell_type": "markdown",
   "metadata": {},
   "source": [
    "\n",
    "## Conclusion\n",
    "\n",
    "This notebook has guided you through the hardware configuration process for both the servo controller and the camera. Successfully completing these steps ensures that your hardware is properly set up and ready for the next stages of the SmartVision project.\n",
    "## Next Steps\n",
    "\n",
    "After completing the hardware configuration, the next steps are:\n",
    "\n",
    "1. Software installation and configuration\n",
    "2. Calibration of the camera and the robotic arm\n",
    "3. Implementation of the vision algorithms\n",
    "4. Integration of the vision system with the robotic control system\n",
    "\n",
    "## References\n",
    "\n",
    "- [Raspberry Pi Documentation](https://www.raspberrypi.org/documentation/)\n",
    "- [PCA9685 Servo Controller Documentation](https://learn.adafruit.com/16-channel-pwm-servo-driver)\n",
    "- [Camera Module Documentation](https://www.raspberrypi.org/documentation/hardware/camera/)\n",
    "- [OpenCV Documentation](https://opencv.org/documentation/)"
   ]
  }
 ],
 "metadata": {
  "language_info": {
   "name": "python"
  }
 },
 "nbformat": 4,
 "nbformat_minor": 2
}
