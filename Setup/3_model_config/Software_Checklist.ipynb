{
 "cells": [
  {
   "cell_type": "markdown",
   "metadata": {},
   "source": [
    "# Software Checklist \n",
    "\n",
    "In order to run the software, it is preferable to have all the steps in the hardware configuration checklist completed; however, it is not mandatory. You can manually install the software on any linux based system with a little bit of effort.\n",
    "\n"
   ]
  }
 ],
 "metadata": {
  "language_info": {
   "name": "python"
  }
 },
 "nbformat": 4,
 "nbformat_minor": 2
}
