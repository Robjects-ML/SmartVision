{
 "cells": [
  {
   "cell_type": "markdown",
   "metadata": {},
   "source": [
    "# Image Preprocessing Techniques for Machine Learning\n",
    "\n"
   ]
  },
  {
   "cell_type": "markdown",
   "metadata": {},
   "source": [
    "## Overview\n",
    "\n",
    "Image preprocessing is a crucial step in preparing data for machine learning models, especially in computer vision tasks. This process involves several techniques to enhance the quality and consistency of the images. Below are the common image preprocessing methods:\n",
    "\n",
    "1. **Resizing Images**: Adjusting the dimensions of images to a consistent size to ensure uniformity across the dataset.\n",
    "2. **Normalizing Pixel Values**: Scaling pixel values to a common range, typically between 0 and 1, to improve the performance of the model.\n",
    "3. **Data Augmentation**: Applying various transformations to the images to artificially increase the size of the dataset and improve the model's robustness. Common techniques include rotation, flipping, and cropping."
   ]
  },
  {
   "cell_type": "markdown",
   "metadata": {},
   "source": [
    "**Table of contents**    \n",
    "- **Image Processing on the Fly**    \n",
    "    - [Overview](#overview)    \n",
    "    - [Basic Image Preprocessing commands in Python](#basic-image-preprocessing-commands-in-python)    \n",
    "        - [Downloading sample image for testing](#downloading-sample-image-for-testing)    \n",
    "        - [Testing initial code](#testing-initial-code)    \n",
    "- **Image Processing on the Fly (Part 2)**    \n",
    "    - [Using functions to perform image preprocessing with OpenCV](#using-functions-to-perform-image-preprocessing-with-opencv)    \n",
    "        - [Resizing Images](#resizing-images)    \n",
    "    - [Using simple functions to perform image preprocessing](#using-simple-functions-to-perform-image-preprocessing)    \n",
    "        - [Normalizing Pixel Values](#normalizing-pixel-values)    \n",
    "        - [Data Augmentation](#data-augmentation)    \n",
    "    - [Full Python Code for Image Preprocessing](#full-python-code-for-image-preprocessing)    \n",
    "        - [Example Usage of Image Preprocessing Functions](#example-usage-of-image-preprocessing-functions)"
   ]
  },
  {
   "cell_type": "markdown",
   "metadata": {},
   "source": [
    "# **Image Processing on the Fly (Part 1)**\n",
    "\n",
    "\n",
    "\n"
   ]
  },
  {
   "cell_type": "markdown",
   "metadata": {},
   "source": [
    "## Basic Image Preprocessing commands in Python\n",
    "\n",
    "Here are some commands that work with the library OpenCV to perform basic image preprocessing tasks in Python. You can run these commands in your local environment to understand how image preprocessing works.\n",
    "\n",
    "\n"
   ]
  },
  {
   "cell_type": "markdown",
   "metadata": {},
   "source": [
    "### Downloading sample image for testing\n"
   ]
  },
  {
   "cell_type": "code",
   "execution_count": 1,
   "metadata": {},
   "outputs": [],
   "source": [
    "\n",
    "import urllib.request\n",
    "\n",
    "import requests\n",
    "from io import BytesIO\n",
    "\n",
    "# Download a random open-source camera image\n",
    "image_url = 'https://avatars.githubusercontent.com/u/20546156?v=4'\n",
    "response = requests.get(image_url)\n",
    "\n",
    "# Save the image to a file\n",
    "with open('image.jpg', 'wb') as f:\n",
    "    f.write(response.content)\n",
    "\n"
   ]
  },
  {
   "cell_type": "code",
   "execution_count": 2,
   "metadata": {},
   "outputs": [
    {
     "ename": "NameError",
     "evalue": "name 'Image' is not defined",
     "output_type": "error",
     "traceback": [
      "\u001b[0;31m---------------------------------------------------------------------------\u001b[0m",
      "\u001b[0;31mNameError\u001b[0m                                 Traceback (most recent call last)",
      "Cell \u001b[0;32mIn[2], line 1\u001b[0m\n\u001b[0;32m----> 1\u001b[0m image \u001b[38;5;241m=\u001b[39m \u001b[43mImage\u001b[49m\u001b[38;5;241m.\u001b[39mopen(BytesIO(response\u001b[38;5;241m.\u001b[39mcontent))\n\u001b[1;32m      2\u001b[0m image\u001b[38;5;241m.\u001b[39msave(\u001b[38;5;124m'\u001b[39m\u001b[38;5;124mimage.jpg\u001b[39m\u001b[38;5;124m'\u001b[39m)\n\u001b[1;32m      3\u001b[0m image\u001b[38;5;241m.\u001b[39mshow()\n",
      "\u001b[0;31mNameError\u001b[0m: name 'Image' is not defined"
     ]
    }
   ],
   "source": [
    "\n",
    "image = Image.open(BytesIO(response.content))\n",
    "image.save('image.jpg')\n",
    "image.show()\n"
   ]
  },
  {
   "cell_type": "markdown",
   "metadata": {},
   "source": [
    "### Run the following code to test functionality of OpenCV with 'image.jpg' file\n",
    "\n"
   ]
  },
  {
   "cell_type": "code",
   "execution_count": null,
   "metadata": {},
   "outputs": [],
   "source": [
    "import cv2\n",
    "import numpy as np\n",
    "from PIL import Image\n",
    "import matplotlib.pyplot as plt\n",
    "\n",
    "# Load the sample image\n",
    "image = cv2.('image.jpg')\n",
    "\n",
    "# Resize the image\n",
    "resized_image = cv2.resize(image, (new_width, new_height))\n",
    "\n",
    "# Normalize pixel values\n",
    "normalized_image = image / 255.0\n",
    "\n",
    "# Rotate the image\n",
    "rotated_image = cv2.rotate(image, cv2.ROTATE_90_CLOCKWISE)\n",
    "\n",
    "# Flip the image\n",
    "flipped_image = cv2.flip(image, 1)\n",
    "\n",
    "# Grayscale conversion\n",
    "gray_image = cv2.cvtColor(image, cv2.COLOR_BGR2GRAY)\n",
    "\n",
    "# Apply Gaussian blur for noise reduction\n",
    "blurred_image = cv2.GaussianBlur(image, (5, 5), 0)\n",
    "\n",
    "# Threshold the image\n",
    "_, thresholded_image = cv2.threshold(gray_image, 127, 255, cv2.THRESH_BINARY)\n",
    "\n",
    "# Edge detection using Canny\n",
    "edges = cv2.Canny(image, 100, 200)\n",
    "\n",
    "# Adjust brightness and contrast\n",
    "alpha, beta = 1.5, 10  # Contrast and brightness control\n",
    "adjusted_image = cv2.convertScaleAbs(image, alpha=alpha, beta=beta)\n",
    "\n",
    "# Apply histogram equalization (improves contrast)\n",
    "gray_equalized = cv2.equalizeHist(gray_image)\n",
    "\n",
    "# Display the images\n",
    "cv2.imshow('Original Image', image)\n",
    "cv2.imshow('Resized Image', resized_image)\n",
    "cv2.imshow('Normalized Image', normalized_image)\n",
    "cv2.imshow('Rotated Image', rotated_image)\n",
    "cv2.imshow('Flipped Image', flipped_image)\n",
    "cv2.imshow('Gray Image', gray_image)\n",
    "cv2.imshow('Blurred Image', blurred_image)\n",
    "cv2.imshow('Thresholded Image', thresholded_image)\n",
    "cv2.imshow('Edges', edges)\n",
    "cv2.imshow('Adjusted Image', adjusted_image)\n",
    "cv2.imshow('Equalized Image', gray_equalized)\n",
    "\n",
    "cv2.waitKey(0)  # Wait for a key press to close the windows\n",
    "cv2.destroyAllWindows()  # Close all windows when the script ends"
   ]
  },
  {
   "cell_type": "markdown",
   "metadata": {},
   "source": [
    "\n",
    "\n",
    "> NOTES:\n",
    "    > - Make sure to replace `'image.jpg'` with the path to your image file.\n",
    "    > - You can adjust the parameters in the functions to suit your requirements.\n",
    "    > - The `cv2.waitKey(0)` function waits indefinitely for a key press to close the windows. You can change the argument to specify the delay in milliseconds.\n",
    "    > - The `cv2.destroyAllWindows()` function closes all windows when the script ends.\n",
    "    > - You can run these commands in a Python script or a Jupyter notebook to visualize the results.\n",
    "    >\n",
    "    >\n",
    "\n",
    "\n",
    "\n"
   ]
  },
  {
   "cell_type": "markdown",
   "metadata": {},
   "source": [
    "# Image Processing on the Fly (Part 2)\n"
   ]
  },
  {
   "cell_type": "markdown",
   "metadata": {},
   "source": [
    "\n",
    "\n",
    "## Using functions to perform image preprocessing with OpenCV\n"
   ]
  },
  {
   "cell_type": "markdown",
   "metadata": {},
   "source": [
    "\n",
    "### Resizing Images\n",
    "\n"
   ]
  },
  {
   "cell_type": "code",
   "execution_count": null,
   "metadata": {},
   "outputs": [],
   "source": [
    "\n",
    "def resize_image(image, target_size):\n",
    "    \"\"\"\n",
    "    Resize the input image to the target size.\n",
    "\n",
    "    Parameters:\n",
    "    image (numpy array or PIL Image): The input image to be resized.\n",
    "    target_size (tuple): The desired size of the output image (width, height).\n",
    "\n",
    "    Returns:\n",
    "    resized_image (numpy array or PIL Image): The resized image.\n",
    "    \"\"\"\n",
    "    # Import necessary libraries\n",
    "    from PIL import Image\n",
    "    import numpy as np\n",
    "\n",
    "    # Check if the input image is a numpy array\n",
    "    if isinstance(image, np.ndarray):\n",
    "        # Convert numpy array to PIL Image\n",
    "        image = Image.fromarray(image)\n",
    "\n",
    "    # Resize the image using PIL's resize method\n",
    "    resized_image = image.resize(target_size, Image.ANTIALIAS)\n",
    "\n",
    "    # If the original image was a numpy array, convert the resized image back to numpy array\n",
    "    if isinstance(image, np.ndarray):\n",
    "        resized_image = np.array(resized_image)\n",
    "\n",
    "    return resized_image\n",
    "\n",
    "print(resize_image.__doc__)\n"
   ]
  },
  {
   "cell_type": "markdown",
   "metadata": {},
   "source": [
    "\n",
    "## Using simple functions to perform image preprocessing"
   ]
  },
  {
   "cell_type": "markdown",
   "metadata": {},
   "source": [
    "### Normalizing Pixel Values\n",
    "\n",
    "Below is a Python method with pseudocode for normalizing pixel values:\n",
    "\n"
   ]
  },
  {
   "cell_type": "code",
   "execution_count": null,
   "metadata": {},
   "outputs": [],
   "source": [
    "\n",
    "def normalize_image(image):\n",
    "    # Normalize pixel values to the range [0, 1]\n",
    "    normalized_image = image / 255.0\n",
    "    return normalized_image\n",
    "\n"
   ]
  },
  {
   "cell_type": "markdown",
   "metadata": {},
   "source": [
    "### Data Augmentation\n",
    "\n",
    "Below is a Python method with pseudocode for data augmentation:\n"
   ]
  },
  {
   "cell_type": "code",
   "execution_count": null,
   "metadata": {},
   "outputs": [],
   "source": [
    "\n",
    "def augment_data(images, labels):\n",
    "    augmented_images = []\n",
    "    augmented_labels = []\n",
    "    \n",
    "    for image, label in zip(images, labels):\n",
    "        # Perform data augmentation on the image\n",
    "        augmented_image = apply_augmentation(image)\n",
    "        \n",
    "        # Add the original and augmented images to the list\n",
    "        augmented_images.append(image)\n",
    "        augmented_images.append(augmented_image)\n",
    "        \n",
    "        # Add the corresponding labels\n",
    "        augmented_labels.append(label)\n",
    "        augmented_labels.append(label)\n",
    "    \n",
    "    return augmented_images, augmented_labels\n"
   ]
  },
  {
   "cell_type": "markdown",
   "metadata": {},
   "source": [
    "\n",
    "## Full Python Code for Image Preprocessing\n",
    "\n",
    "To use the next cell block, we will need to have the code above in a seperate python script file labeled `image_preprocessing.py` and import it into the notebook."
   ]
  },
  {
   "cell_type": "markdown",
   "metadata": {},
   "source": [
    "I've included the code below for reference.\n",
    "\n",
    "```python\n",
    "\n",
    "import cv2\n",
    "import numpy as np\n",
    "from PIL import Image\n",
    "import matplotlib.pyplot as plt\n",
    "\n",
    "def resize_image(image, target_size):\n",
    "    \"\"\"\n",
    "    Resize the input image to the target size.\n",
    "\n",
    "    Parameters:\n",
    "    image (numpy array or PIL Image): The input image to be resized.\n",
    "    target_size (tuple): The desired size of the output image (width, height).\n",
    "\n",
    "    Returns:\n",
    "    resized_image (numpy array or PIL Image): The resized image.\n",
    "    \"\"\"\n",
    "    # Check if the input image is a numpy array\n",
    "    if isinstance(image, np.ndarray):\n",
    "        # Convert numpy array to PIL Image\n",
    "        image = Image.fromarray(image)\n",
    "\n",
    "    # Resize the image using PIL's resize method\n",
    "    resized_image = image.resize(target_size, Image.ANTIALIAS)\n",
    "\n",
    "    # If the original image was a numpy array, convert the resized image back to numpy array\n",
    "    if isinstance(image, np.ndarray):\n",
    "        resized_image = np.array(resized_image)\n",
    "\n",
    "    return resized_image\n",
    "\n",
    "def normalize_image(image):\n",
    "    # Normalize pixel values to the range [0, 1]\n",
    "    normalized_image = image / 255.0\n",
    "    return normalized_image\n",
    "\n",
    "def augment_data(images, labels):\n",
    "    augmented_images = []\n",
    "    augmented_labels = []\n",
    "    \n",
    "    for image, label in zip(images, labels):\n",
    "        # Perform data augmentation on the image\n",
    "        augmented_image = apply_augmentation(image)\n",
    "        \n",
    "        # Add the original and augmented images to the list\n",
    "        augmented_images.append(image)\n",
    "        augmented_images.append(augmented_image)\n",
    "        \n",
    "        # Add the corresponding labels\n",
    "        augmented_labels.append(label)\n",
    "        augmented_labels.append(label)\n",
    "    \n",
    "    return augmented_images, augmented_labels\n",
    "\n",
    "def apply_augmentation(image):\n",
    "    # Apply data augmentation techniques such as rotation, flipping, etc.\n",
    "    augmented_image = cv2.flip(image, 1)  # Flip the image horizontally\n",
    "    return augmented_image\n",
    "\n",
    "```\n"
   ]
  },
  {
   "cell_type": "markdown",
   "metadata": {},
   "source": [
    "\n",
    "### E\n",
    " \n",
    "Example Usage of Image Preprocessing Functions\n",
    "\n",
    "The following code block demonstrates how to use the image preprocessing functions to resize an image, normalize pixel values, and apply data augmentation. The original and preprocessed images are displayed for comparison.\n",
    "\n"
   ]
  },
  {
   "cell_type": "code",
   "execution_count": null,
   "metadata": {},
   "outputs": [],
   "source": [
    "import cv2\n",
    "import numpy as np\n",
    "from PIL import Image\n",
    "import matplotlib.pyplot as plt\n",
    "\n",
    "# Import the image preprocessing functions\n",
    "from image_preprocessing import resize_image, normalize_image, apply_augmentation\n",
    "\n",
    "\n",
    "# Example usage of the image preprocessing functions\n",
    "image = cv2.imread('image.jpg')  # Load an image using OpenCV\n",
    "resized_image = resize_image(image, (224, 224))  # Resize the image to (224, 224)\n",
    "normalized_image = normalize_image(resized_image)  # Normalize the pixel values\n",
    "augmented_image = apply_augmentation(image)  # Apply data augmentation\n",
    "\n",
    "# Display the original and preprocessed images\n",
    "plt.figure(figsize=(12, 6))\n",
    "plt.subplot(1, 3, 1)\n",
    "\n",
    "plt.imshow(cv2.cvtColor(image, cv2.COLOR_BGR2RGB))\n",
    "\n",
    "plt.title('Original Image')\n",
    "\n",
    "plt.subplot(1, 3, 2)\n",
    "\n",
    "plt.imshow(cv2.cvtColor(resized_image, cv2.COLOR_BGR2RGB))\n",
    "\n",
    "plt.title('Resized Image')\n",
    "\n",
    "plt.subplot(1, 3, 3)\n",
    "\n",
    "plt.imshow(cv2.cvtColor(augmented_image, cv2.COLOR_BGR2RGB))\n",
    "\n",
    "plt.title('Augmented Image')\n",
    "\n",
    "plt.show()\n",
    "\n"
   ]
  },
  {
   "cell_type": "code",
   "execution_count": null,
   "metadata": {},
   "outputs": [],
   "source": [
    "import requests\n",
    "from PIL import Image\n",
    "from io import BytesIO\n",
    "\n",
    "# URL of a random open-source camera image\n",
    "image_url = 'https://picsum.photos/800/600'\n",
    "\n",
    "# Send a GET request to the URL\n",
    "response = requests.get(image_url)\n",
    "\n",
    "# Open the image and save it as 'image.jpg'\n",
    "image = Image.open(BytesIO(response.content))\n",
    "image.save('image.jpg')\n",
    "\n",
    "print('Image downloaded and saved as image.jpg')\n"
   ]
  }
 ],
 "metadata": {
  "kernelspec": {
   "display_name": "3.13.0",
   "language": "python",
   "name": "python3"
  },
  "language_info": {
   "codemirror_mode": {
    "name": "ipython",
    "version": 3
   },
   "file_extension": ".py",
   "mimetype": "text/x-python",
   "name": "python",
   "nbconvert_exporter": "python",
   "pygments_lexer": "ipython3",
   "version": "3.13.0"
  }
 },
 "nbformat": 4,
 "nbformat_minor": 2
}
